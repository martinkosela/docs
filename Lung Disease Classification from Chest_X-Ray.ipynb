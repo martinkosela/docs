{
  "nbformat": 4,
  "nbformat_minor": 0,
  "metadata": {
    "colab": {
      "name": "Project1_Chest_X-Ray.ipynb",
      "provenance": [],
      "collapsed_sections": [],
      "authorship_tag": "ABX9TyOODrDxqCrasiN0RiHhooYR"
    },
    "kernelspec": {
      "name": "python3",
      "display_name": "Python 3"
    }
  },
  "cells": [
    {
      "cell_type": "code",
      "metadata": {
        "id": "n2fgdMy4zU6n",
        "colab_type": "code",
        "colab": {}
      },
      "source": [
        "import numpy as np # linear algebra\n",
        "import pandas as pd # data processing, CSV file I/O (e.g. pd.read_csv)\n",
        "import matplotlib.pyplot as plt\n",
        "import seaborn as sns\n",
        "from glob import glob\n",
        "import os\n",
        "import matplotlib.gridspec as gridspec\n",
        "import matplotlib.ticker as ticker\n",
        "sns.set_style('whitegrid')\n",
        "%matplotlib inline\n",
        "import warnings\n",
        "warnings.filterwarnings('ignore')\n",
        "from keras.layers import Input\n",
        "from keras.models import Model\n",
        "from keras.layers import Dense\n",
        "from keras.optimizers import Adam\n",
        "#from generator import DataGenerator\n",
        "import keras\n",
        "from sklearn.model_selection import train_test_split\n",
        "from keras.applications.densenet import DenseNet121, preprocess_input\n",
        "from keras.preprocessing.image import ImageDataGenerator\n",
        "from PIL import Image\n",
        "from sklearn.metrics import roc_curve, auc\n",
        "from sklearn.metrics import roc_auc_score"
      ],
      "execution_count": 0,
      "outputs": []
    },
    {
      "cell_type": "code",
      "metadata": {
        "id": "Z2BbhNUd5XD3",
        "colab_type": "code",
        "colab": {
          "base_uri": "https://localhost:8080/",
          "height": 35
        },
        "outputId": "bff9fb07-b721-4caa-e149-c3ed67ac83d9"
      },
      "source": [
        "from google.colab import drive\n",
        "\n",
        "drive.mount('/content/gdrive')"
      ],
      "execution_count": 4,
      "outputs": [
        {
          "output_type": "stream",
          "text": [
            "Drive already mounted at /content/gdrive; to attempt to forcibly remount, call drive.mount(\"/content/gdrive\", force_remount=True).\n"
          ],
          "name": "stdout"
        }
      ]
    },
    {
      "cell_type": "code",
      "metadata": {
        "id": "jeWBh4HJzsWu",
        "colab_type": "code",
        "outputId": "8f9cb16b-eafd-48f8-a782-287cc9bdb89d",
        "colab": {
          "base_uri": "https://localhost:8080/",
          "height": 239
        }
      },
      "source": [
        "raw_data = pd.read_csv('/content/gdrive/My Drive/Colab/Data_Entry_2017.csv')\n",
        "raw_data.head()"
      ],
      "execution_count": 5,
      "outputs": [
        {
          "output_type": "execute_result",
          "data": {
            "text/html": [
              "<div>\n",
              "<style scoped>\n",
              "    .dataframe tbody tr th:only-of-type {\n",
              "        vertical-align: middle;\n",
              "    }\n",
              "\n",
              "    .dataframe tbody tr th {\n",
              "        vertical-align: top;\n",
              "    }\n",
              "\n",
              "    .dataframe thead th {\n",
              "        text-align: right;\n",
              "    }\n",
              "</style>\n",
              "<table border=\"1\" class=\"dataframe\">\n",
              "  <thead>\n",
              "    <tr style=\"text-align: right;\">\n",
              "      <th></th>\n",
              "      <th>Image Index</th>\n",
              "      <th>Finding Labels</th>\n",
              "      <th>Follow-up #</th>\n",
              "      <th>Patient ID</th>\n",
              "      <th>Patient Age</th>\n",
              "      <th>Patient Gender</th>\n",
              "      <th>View Position</th>\n",
              "      <th>OriginalImage[Width</th>\n",
              "      <th>Height]</th>\n",
              "      <th>OriginalImagePixelSpacing[x</th>\n",
              "      <th>y]</th>\n",
              "      <th>Unnamed: 11</th>\n",
              "    </tr>\n",
              "  </thead>\n",
              "  <tbody>\n",
              "    <tr>\n",
              "      <th>0</th>\n",
              "      <td>00000001_000.png</td>\n",
              "      <td>Cardiomegaly</td>\n",
              "      <td>0</td>\n",
              "      <td>1</td>\n",
              "      <td>58</td>\n",
              "      <td>M</td>\n",
              "      <td>PA</td>\n",
              "      <td>2682</td>\n",
              "      <td>2749</td>\n",
              "      <td>0.143</td>\n",
              "      <td>0.143</td>\n",
              "      <td>NaN</td>\n",
              "    </tr>\n",
              "    <tr>\n",
              "      <th>1</th>\n",
              "      <td>00000001_001.png</td>\n",
              "      <td>Cardiomegaly|Emphysema</td>\n",
              "      <td>1</td>\n",
              "      <td>1</td>\n",
              "      <td>58</td>\n",
              "      <td>M</td>\n",
              "      <td>PA</td>\n",
              "      <td>2894</td>\n",
              "      <td>2729</td>\n",
              "      <td>0.143</td>\n",
              "      <td>0.143</td>\n",
              "      <td>NaN</td>\n",
              "    </tr>\n",
              "    <tr>\n",
              "      <th>2</th>\n",
              "      <td>00000001_002.png</td>\n",
              "      <td>Cardiomegaly|Effusion</td>\n",
              "      <td>2</td>\n",
              "      <td>1</td>\n",
              "      <td>58</td>\n",
              "      <td>M</td>\n",
              "      <td>PA</td>\n",
              "      <td>2500</td>\n",
              "      <td>2048</td>\n",
              "      <td>0.168</td>\n",
              "      <td>0.168</td>\n",
              "      <td>NaN</td>\n",
              "    </tr>\n",
              "    <tr>\n",
              "      <th>3</th>\n",
              "      <td>00000002_000.png</td>\n",
              "      <td>No Finding</td>\n",
              "      <td>0</td>\n",
              "      <td>2</td>\n",
              "      <td>81</td>\n",
              "      <td>M</td>\n",
              "      <td>PA</td>\n",
              "      <td>2500</td>\n",
              "      <td>2048</td>\n",
              "      <td>0.171</td>\n",
              "      <td>0.171</td>\n",
              "      <td>NaN</td>\n",
              "    </tr>\n",
              "    <tr>\n",
              "      <th>4</th>\n",
              "      <td>00000003_000.png</td>\n",
              "      <td>Hernia</td>\n",
              "      <td>0</td>\n",
              "      <td>3</td>\n",
              "      <td>81</td>\n",
              "      <td>F</td>\n",
              "      <td>PA</td>\n",
              "      <td>2582</td>\n",
              "      <td>2991</td>\n",
              "      <td>0.143</td>\n",
              "      <td>0.143</td>\n",
              "      <td>NaN</td>\n",
              "    </tr>\n",
              "  </tbody>\n",
              "</table>\n",
              "</div>"
            ],
            "text/plain": [
              "        Image Index          Finding Labels  ...     y]  Unnamed: 11\n",
              "0  00000001_000.png            Cardiomegaly  ...  0.143          NaN\n",
              "1  00000001_001.png  Cardiomegaly|Emphysema  ...  0.143          NaN\n",
              "2  00000001_002.png   Cardiomegaly|Effusion  ...  0.168          NaN\n",
              "3  00000002_000.png              No Finding  ...  0.171          NaN\n",
              "4  00000003_000.png                  Hernia  ...  0.143          NaN\n",
              "\n",
              "[5 rows x 12 columns]"
            ]
          },
          "metadata": {
            "tags": []
          },
          "execution_count": 5
        }
      ]
    },
    {
      "cell_type": "code",
      "metadata": {
        "id": "tIdoSB2k7UIR",
        "colab_type": "code",
        "colab": {
          "base_uri": "https://localhost:8080/",
          "height": 35
        },
        "outputId": "3b70ba1b-759e-401b-db03-30b9a89af3d9"
      },
      "source": [
        "print('shape of data:', raw_data.shape)"
      ],
      "execution_count": 6,
      "outputs": [
        {
          "output_type": "stream",
          "text": [
            "shape of data: (112120, 12)\n"
          ],
          "name": "stdout"
        }
      ]
    },
    {
      "cell_type": "code",
      "metadata": {
        "id": "OtYGzrV67a_I",
        "colab_type": "code",
        "colab": {
          "base_uri": "https://localhost:8080/",
          "height": 294
        },
        "outputId": "a80accf1-ec74-480c-8e48-c66fb7d73550"
      },
      "source": [
        "raw_data.describe()"
      ],
      "execution_count": 7,
      "outputs": [
        {
          "output_type": "execute_result",
          "data": {
            "text/html": [
              "<div>\n",
              "<style scoped>\n",
              "    .dataframe tbody tr th:only-of-type {\n",
              "        vertical-align: middle;\n",
              "    }\n",
              "\n",
              "    .dataframe tbody tr th {\n",
              "        vertical-align: top;\n",
              "    }\n",
              "\n",
              "    .dataframe thead th {\n",
              "        text-align: right;\n",
              "    }\n",
              "</style>\n",
              "<table border=\"1\" class=\"dataframe\">\n",
              "  <thead>\n",
              "    <tr style=\"text-align: right;\">\n",
              "      <th></th>\n",
              "      <th>Follow-up #</th>\n",
              "      <th>Patient ID</th>\n",
              "      <th>Patient Age</th>\n",
              "      <th>OriginalImage[Width</th>\n",
              "      <th>Height]</th>\n",
              "      <th>OriginalImagePixelSpacing[x</th>\n",
              "      <th>y]</th>\n",
              "      <th>Unnamed: 11</th>\n",
              "    </tr>\n",
              "  </thead>\n",
              "  <tbody>\n",
              "    <tr>\n",
              "      <th>count</th>\n",
              "      <td>112120.000000</td>\n",
              "      <td>112120.000000</td>\n",
              "      <td>112120.000000</td>\n",
              "      <td>112120.000000</td>\n",
              "      <td>112120.000000</td>\n",
              "      <td>112120.000000</td>\n",
              "      <td>112120.000000</td>\n",
              "      <td>0.0</td>\n",
              "    </tr>\n",
              "    <tr>\n",
              "      <th>mean</th>\n",
              "      <td>8.573751</td>\n",
              "      <td>14346.381743</td>\n",
              "      <td>46.901463</td>\n",
              "      <td>2646.078844</td>\n",
              "      <td>2486.438842</td>\n",
              "      <td>0.155649</td>\n",
              "      <td>0.155649</td>\n",
              "      <td>NaN</td>\n",
              "    </tr>\n",
              "    <tr>\n",
              "      <th>std</th>\n",
              "      <td>15.406320</td>\n",
              "      <td>8403.876972</td>\n",
              "      <td>16.839923</td>\n",
              "      <td>341.246429</td>\n",
              "      <td>401.268227</td>\n",
              "      <td>0.016174</td>\n",
              "      <td>0.016174</td>\n",
              "      <td>NaN</td>\n",
              "    </tr>\n",
              "    <tr>\n",
              "      <th>min</th>\n",
              "      <td>0.000000</td>\n",
              "      <td>1.000000</td>\n",
              "      <td>1.000000</td>\n",
              "      <td>1143.000000</td>\n",
              "      <td>966.000000</td>\n",
              "      <td>0.115000</td>\n",
              "      <td>0.115000</td>\n",
              "      <td>NaN</td>\n",
              "    </tr>\n",
              "    <tr>\n",
              "      <th>25%</th>\n",
              "      <td>0.000000</td>\n",
              "      <td>7310.750000</td>\n",
              "      <td>35.000000</td>\n",
              "      <td>2500.000000</td>\n",
              "      <td>2048.000000</td>\n",
              "      <td>0.143000</td>\n",
              "      <td>0.143000</td>\n",
              "      <td>NaN</td>\n",
              "    </tr>\n",
              "    <tr>\n",
              "      <th>50%</th>\n",
              "      <td>3.000000</td>\n",
              "      <td>13993.000000</td>\n",
              "      <td>49.000000</td>\n",
              "      <td>2518.000000</td>\n",
              "      <td>2544.000000</td>\n",
              "      <td>0.143000</td>\n",
              "      <td>0.143000</td>\n",
              "      <td>NaN</td>\n",
              "    </tr>\n",
              "    <tr>\n",
              "      <th>75%</th>\n",
              "      <td>10.000000</td>\n",
              "      <td>20673.000000</td>\n",
              "      <td>59.000000</td>\n",
              "      <td>2992.000000</td>\n",
              "      <td>2991.000000</td>\n",
              "      <td>0.168000</td>\n",
              "      <td>0.168000</td>\n",
              "      <td>NaN</td>\n",
              "    </tr>\n",
              "    <tr>\n",
              "      <th>max</th>\n",
              "      <td>183.000000</td>\n",
              "      <td>30805.000000</td>\n",
              "      <td>414.000000</td>\n",
              "      <td>3827.000000</td>\n",
              "      <td>4715.000000</td>\n",
              "      <td>0.198800</td>\n",
              "      <td>0.198800</td>\n",
              "      <td>NaN</td>\n",
              "    </tr>\n",
              "  </tbody>\n",
              "</table>\n",
              "</div>"
            ],
            "text/plain": [
              "         Follow-up #     Patient ID  ...             y]  Unnamed: 11\n",
              "count  112120.000000  112120.000000  ...  112120.000000          0.0\n",
              "mean        8.573751   14346.381743  ...       0.155649          NaN\n",
              "std        15.406320    8403.876972  ...       0.016174          NaN\n",
              "min         0.000000       1.000000  ...       0.115000          NaN\n",
              "25%         0.000000    7310.750000  ...       0.143000          NaN\n",
              "50%         3.000000   13993.000000  ...       0.143000          NaN\n",
              "75%        10.000000   20673.000000  ...       0.168000          NaN\n",
              "max       183.000000   30805.000000  ...       0.198800          NaN\n",
              "\n",
              "[8 rows x 8 columns]"
            ]
          },
          "metadata": {
            "tags": []
          },
          "execution_count": 7
        }
      ]
    },
    {
      "cell_type": "code",
      "metadata": {
        "id": "vRIfLNSn7eFp",
        "colab_type": "code",
        "colab": {}
      },
      "source": [
        "#We are dropping columns which are useless for our project"
      ],
      "execution_count": 0,
      "outputs": []
    },
    {
      "cell_type": "code",
      "metadata": {
        "id": "5s_Jww_X7urb",
        "colab_type": "code",
        "colab": {}
      },
      "source": [
        "data = raw_data[['Image Index', 'Finding Labels', 'Follow-up #', 'Patient ID', 'Patient Age', 'Patient Gender']]"
      ],
      "execution_count": 0,
      "outputs": []
    },
    {
      "cell_type": "code",
      "metadata": {
        "id": "7udJDJMY7_Bh",
        "colab_type": "code",
        "colab": {
          "base_uri": "https://localhost:8080/",
          "height": 294
        },
        "outputId": "3fc1cdaa-12a9-48e7-8ace-1a4d7d7c950f"
      },
      "source": [
        "data.describe()"
      ],
      "execution_count": 10,
      "outputs": [
        {
          "output_type": "execute_result",
          "data": {
            "text/html": [
              "<div>\n",
              "<style scoped>\n",
              "    .dataframe tbody tr th:only-of-type {\n",
              "        vertical-align: middle;\n",
              "    }\n",
              "\n",
              "    .dataframe tbody tr th {\n",
              "        vertical-align: top;\n",
              "    }\n",
              "\n",
              "    .dataframe thead th {\n",
              "        text-align: right;\n",
              "    }\n",
              "</style>\n",
              "<table border=\"1\" class=\"dataframe\">\n",
              "  <thead>\n",
              "    <tr style=\"text-align: right;\">\n",
              "      <th></th>\n",
              "      <th>Follow-up #</th>\n",
              "      <th>Patient ID</th>\n",
              "      <th>Patient Age</th>\n",
              "    </tr>\n",
              "  </thead>\n",
              "  <tbody>\n",
              "    <tr>\n",
              "      <th>count</th>\n",
              "      <td>112120.000000</td>\n",
              "      <td>112120.000000</td>\n",
              "      <td>112120.000000</td>\n",
              "    </tr>\n",
              "    <tr>\n",
              "      <th>mean</th>\n",
              "      <td>8.573751</td>\n",
              "      <td>14346.381743</td>\n",
              "      <td>46.901463</td>\n",
              "    </tr>\n",
              "    <tr>\n",
              "      <th>std</th>\n",
              "      <td>15.406320</td>\n",
              "      <td>8403.876972</td>\n",
              "      <td>16.839923</td>\n",
              "    </tr>\n",
              "    <tr>\n",
              "      <th>min</th>\n",
              "      <td>0.000000</td>\n",
              "      <td>1.000000</td>\n",
              "      <td>1.000000</td>\n",
              "    </tr>\n",
              "    <tr>\n",
              "      <th>25%</th>\n",
              "      <td>0.000000</td>\n",
              "      <td>7310.750000</td>\n",
              "      <td>35.000000</td>\n",
              "    </tr>\n",
              "    <tr>\n",
              "      <th>50%</th>\n",
              "      <td>3.000000</td>\n",
              "      <td>13993.000000</td>\n",
              "      <td>49.000000</td>\n",
              "    </tr>\n",
              "    <tr>\n",
              "      <th>75%</th>\n",
              "      <td>10.000000</td>\n",
              "      <td>20673.000000</td>\n",
              "      <td>59.000000</td>\n",
              "    </tr>\n",
              "    <tr>\n",
              "      <th>max</th>\n",
              "      <td>183.000000</td>\n",
              "      <td>30805.000000</td>\n",
              "      <td>414.000000</td>\n",
              "    </tr>\n",
              "  </tbody>\n",
              "</table>\n",
              "</div>"
            ],
            "text/plain": [
              "         Follow-up #     Patient ID    Patient Age\n",
              "count  112120.000000  112120.000000  112120.000000\n",
              "mean        8.573751   14346.381743      46.901463\n",
              "std        15.406320    8403.876972      16.839923\n",
              "min         0.000000       1.000000       1.000000\n",
              "25%         0.000000    7310.750000      35.000000\n",
              "50%         3.000000   13993.000000      49.000000\n",
              "75%        10.000000   20673.000000      59.000000\n",
              "max       183.000000   30805.000000     414.000000"
            ]
          },
          "metadata": {
            "tags": []
          },
          "execution_count": 10
        }
      ]
    },
    {
      "cell_type": "code",
      "metadata": {
        "id": "qT-D46J98SSW",
        "colab_type": "code",
        "colab": {}
      },
      "source": [
        "#We are removing the rows which have patients older than 100"
      ],
      "execution_count": 0,
      "outputs": []
    },
    {
      "cell_type": "code",
      "metadata": {
        "id": "bYHDVu4x9XoJ",
        "colab_type": "code",
        "colab": {
          "base_uri": "https://localhost:8080/",
          "height": 69
        },
        "outputId": "23d91c63-4fc9-4064-921f-b92162a72478"
      },
      "source": [
        "#drop unused columns\n",
        "data = data[['Image Index','Finding Labels','Follow-up #','Patient ID','Patient Age','Patient Gender']]\n",
        "\n",
        "# removing the rows which have patient_age >100\n",
        "total = len(data)\n",
        "print('No. of rows before removing rows having age >100 : ',len(data))\n",
        "data = data[data['Patient Age']<100]\n",
        "print('No. of rows after removing rows having age >100 : ',len(data))\n",
        "print('No. of datapoints having age > 100 : ',total-len(data))"
      ],
      "execution_count": 12,
      "outputs": [
        {
          "output_type": "stream",
          "text": [
            "No. of rows before removing rows having age >100 :  112120\n",
            "No. of rows after removing rows having age >100 :  112104\n",
            "No. of datapoints having age > 100 :  16\n"
          ],
          "name": "stdout"
        }
      ]
    },
    {
      "cell_type": "code",
      "metadata": {
        "id": "J4q4G4qQ9bjO",
        "colab_type": "code",
        "colab": {}
      },
      "source": [
        "# rows having no. of disease\n",
        "data['Labels_Count'] = data['Finding Labels'].apply(lambda text: len(text.split('|')) if(text != 'No Finding') else 0)"
      ],
      "execution_count": 0,
      "outputs": []
    },
    {
      "cell_type": "code",
      "metadata": {
        "id": "BYKGmCmEOp21",
        "colab_type": "code",
        "colab": {
          "base_uri": "https://localhost:8080/",
          "height": 583
        },
        "outputId": "fc3eac89-854f-4f52-f928-7223d7a0858e"
      },
      "source": [
        "\n",
        "label_counts = data['Finding Labels'].value_counts()[:15]\n",
        "fig, ax1 = plt.subplots(1,1,figsize = (12, 8))\n",
        "ax1.bar(np.arange(len(label_counts))+0.5, label_counts)\n",
        "ax1.set_xticks(np.arange(len(label_counts))+0.5)\n",
        "_ = ax1.set_xticklabels(label_counts.index, rotation = 90)"
      ],
      "execution_count": 14,
      "outputs": [
        {
          "output_type": "display_data",
          "data": {
            "image/png": "[encoded data removed]",
            "text/plain": [
              "<Figure size 864x576 with 1 Axes>"
            ]
          },
          "metadata": {
            "tags": []
          }
        }
      ]
    },
    {
      "cell_type": "code",
      "metadata": {
        "id": "7-F3p71TOtn0",
        "colab_type": "code",
        "colab": {
          "base_uri": "https://localhost:8080/",
          "height": 369
        },
        "outputId": "53be855c-9fc0-47b2-aac5-3d7339eb48cd"
      },
      "source": [
        "#Age distribution\n",
        "#plt.figure(figsize=(20,15))\n",
        "sns.FacetGrid(data,hue='Patient Gender',size=5).map(sns.distplot,'Patient Age').add_legend()\n",
        "plt.show()"
      ],
      "execution_count": 15,
      "outputs": [
        {
          "output_type": "display_data",
          "data": {
            "image/png": "[encoded data removed]",
            "text/plain": [
              "<Figure size 442.75x360 with 1 Axes>"
            ]
          },
          "metadata": {
            "tags": []
          }
        }
      ]
    },
    {
      "cell_type": "code",
      "metadata": {
        "id": "6ZFpyh3lO3YY",
        "colab_type": "code",
        "colab": {}
      },
      "source": [
        "#observation - Both gender have almost same distribution"
      ],
      "execution_count": 0,
      "outputs": []
    },
    {
      "cell_type": "code",
      "metadata": {
        "id": "Z26FahPkPCQI",
        "colab_type": "code",
        "colab": {
          "base_uri": "https://localhost:8080/",
          "height": 1000
        },
        "outputId": "bb3bbec1-76ad-4447-9499-9a8f872a7f0f"
      },
      "source": [
        "#Disease distribution by age and sex\n",
        "\n",
        "f, axarr = plt.subplots(7, 2, sharex=True,figsize=(15, 20))\n",
        "pathology_list = ['Cardiomegaly','Emphysema','Effusion','Hernia','Nodule','Pneumothorax','Atelectasis','Pleural_Thickening','Mass','Edema','Consolidation','Infiltration','Fibrosis','Pneumonia']\n",
        "df = data[data['Finding Labels'] != 'No Finding']\n",
        "i=0\n",
        "j=0\n",
        "x=np.arange(0,100,10)\n",
        "for pathology in pathology_list :\n",
        "    index = []\n",
        "    for k in range(len(df)):\n",
        "        if pathology in df.iloc[k]['Finding Labels']:\n",
        "            index.append(k)\n",
        "    g=sns.countplot(x='Patient Age', hue=\"Patient Gender\",data=df.iloc[index], ax=axarr[i, j])\n",
        "    axarr[i, j].set_title(pathology)   \n",
        "    g.set_xlim(0,90)\n",
        "    g.set_xticks(x)\n",
        "    g.set_xticklabels(x)\n",
        "    j=(j+1)%2\n",
        "    if j==0:\n",
        "        i=(i+1)%7\n",
        "f.subplots_adjust(hspace=0.3)"
      ],
      "execution_count": 17,
      "outputs": [
        {
          "output_type": "display_data",
          "data": {
            "image/png": "[encoded data removed]",
            "text/plain": [
              "<Figure size 1080x1440 with 14 Axes>"
            ]
          },
          "metadata": {
            "tags": []
          }
        }
      ]
    },
    {
      "cell_type": "code",
      "metadata": {
        "id": "vUfxGChVPQCa",
        "colab_type": "code",
        "colab": {
          "base_uri": "https://localhost:8080/",
          "height": 239
        },
        "outputId": "d266d69b-8df4-4828-9896-68b1ca9161ff"
      },
      "source": [
        "#No. of each disease by patient gender\n",
        "\n",
        "for pathology in pathology_list :\n",
        "    data[pathology] = data['Finding Labels'].apply(lambda x: 1 if pathology in x else 0)\n",
        "\n",
        "data.head()"
      ],
      "execution_count": 18,
      "outputs": [
        {
          "output_type": "execute_result",
          "data": {
            "text/html": [
              "<div>\n",
              "<style scoped>\n",
              "    .dataframe tbody tr th:only-of-type {\n",
              "        vertical-align: middle;\n",
              "    }\n",
              "\n",
              "    .dataframe tbody tr th {\n",
              "        vertical-align: top;\n",
              "    }\n",
              "\n",
              "    .dataframe thead th {\n",
              "        text-align: right;\n",
              "    }\n",
              "</style>\n",
              "<table border=\"1\" class=\"dataframe\">\n",
              "  <thead>\n",
              "    <tr style=\"text-align: right;\">\n",
              "      <th></th>\n",
              "      <th>Image Index</th>\n",
              "      <th>Finding Labels</th>\n",
              "      <th>Follow-up #</th>\n",
              "      <th>Patient ID</th>\n",
              "      <th>Patient Age</th>\n",
              "      <th>Patient Gender</th>\n",
              "      <th>Labels_Count</th>\n",
              "      <th>Cardiomegaly</th>\n",
              "      <th>Emphysema</th>\n",
              "      <th>Effusion</th>\n",
              "      <th>Hernia</th>\n",
              "      <th>Nodule</th>\n",
              "      <th>Pneumothorax</th>\n",
              "      <th>Atelectasis</th>\n",
              "      <th>Pleural_Thickening</th>\n",
              "      <th>Mass</th>\n",
              "      <th>Edema</th>\n",
              "      <th>Consolidation</th>\n",
              "      <th>Infiltration</th>\n",
              "      <th>Fibrosis</th>\n",
              "      <th>Pneumonia</th>\n",
              "    </tr>\n",
              "  </thead>\n",
              "  <tbody>\n",
              "    <tr>\n",
              "      <th>0</th>\n",
              "      <td>00000001_000.png</td>\n",
              "      <td>Cardiomegaly</td>\n",
              "      <td>0</td>\n",
              "      <td>1</td>\n",
              "      <td>58</td>\n",
              "      <td>M</td>\n",
              "      <td>1</td>\n",
              "      <td>1</td>\n",
              "      <td>0</td>\n",
              "      <td>0</td>\n",
              "      <td>0</td>\n",
              "      <td>0</td>\n",
              "      <td>0</td>\n",
              "      <td>0</td>\n",
              "      <td>0</td>\n",
              "      <td>0</td>\n",
              "      <td>0</td>\n",
              "      <td>0</td>\n",
              "      <td>0</td>\n",
              "      <td>0</td>\n",
              "      <td>0</td>\n",
              "    </tr>\n",
              "    <tr>\n",
              "      <th>1</th>\n",
              "      <td>00000001_001.png</td>\n",
              "      <td>Cardiomegaly|Emphysema</td>\n",
              "      <td>1</td>\n",
              "      <td>1</td>\n",
              "      <td>58</td>\n",
              "      <td>M</td>\n",
              "      <td>2</td>\n",
              "      <td>1</td>\n",
              "      <td>1</td>\n",
              "      <td>0</td>\n",
              "      <td>0</td>\n",
              "      <td>0</td>\n",
              "      <td>0</td>\n",
              "      <td>0</td>\n",
              "      <td>0</td>\n",
              "      <td>0</td>\n",
              "      <td>0</td>\n",
              "      <td>0</td>\n",
              "      <td>0</td>\n",
              "      <td>0</td>\n",
              "      <td>0</td>\n",
              "    </tr>\n",
              "    <tr>\n",
              "      <th>2</th>\n",
              "      <td>00000001_002.png</td>\n",
              "      <td>Cardiomegaly|Effusion</td>\n",
              "      <td>2</td>\n",
              "      <td>1</td>\n",
              "      <td>58</td>\n",
              "      <td>M</td>\n",
              "      <td>2</td>\n",
              "      <td>1</td>\n",
              "      <td>0</td>\n",
              "      <td>1</td>\n",
              "      <td>0</td>\n",
              "      <td>0</td>\n",
              "      <td>0</td>\n",
              "      <td>0</td>\n",
              "      <td>0</td>\n",
              "      <td>0</td>\n",
              "      <td>0</td>\n",
              "      <td>0</td>\n",
              "      <td>0</td>\n",
              "      <td>0</td>\n",
              "      <td>0</td>\n",
              "    </tr>\n",
              "    <tr>\n",
              "      <th>3</th>\n",
              "      <td>00000002_000.png</td>\n",
              "      <td>No Finding</td>\n",
              "      <td>0</td>\n",
              "      <td>2</td>\n",
              "      <td>81</td>\n",
              "      <td>M</td>\n",
              "      <td>0</td>\n",
              "      <td>0</td>\n",
              "      <td>0</td>\n",
              "      <td>0</td>\n",
              "      <td>0</td>\n",
              "      <td>0</td>\n",
              "      <td>0</td>\n",
              "      <td>0</td>\n",
              "      <td>0</td>\n",
              "      <td>0</td>\n",
              "      <td>0</td>\n",
              "      <td>0</td>\n",
              "      <td>0</td>\n",
              "      <td>0</td>\n",
              "      <td>0</td>\n",
              "    </tr>\n",
              "    <tr>\n",
              "      <th>4</th>\n",
              "      <td>00000003_000.png</td>\n",
              "      <td>Hernia</td>\n",
              "      <td>0</td>\n",
              "      <td>3</td>\n",
              "      <td>81</td>\n",
              "      <td>F</td>\n",
              "      <td>1</td>\n",
              "      <td>0</td>\n",
              "      <td>0</td>\n",
              "      <td>0</td>\n",
              "      <td>1</td>\n",
              "      <td>0</td>\n",
              "      <td>0</td>\n",
              "      <td>0</td>\n",
              "      <td>0</td>\n",
              "      <td>0</td>\n",
              "      <td>0</td>\n",
              "      <td>0</td>\n",
              "      <td>0</td>\n",
              "      <td>0</td>\n",
              "      <td>0</td>\n",
              "    </tr>\n",
              "  </tbody>\n",
              "</table>\n",
              "</div>"
            ],
            "text/plain": [
              "        Image Index          Finding Labels  ...  Fibrosis  Pneumonia\n",
              "0  00000001_000.png            Cardiomegaly  ...         0          0\n",
              "1  00000001_001.png  Cardiomegaly|Emphysema  ...         0          0\n",
              "2  00000001_002.png   Cardiomegaly|Effusion  ...         0          0\n",
              "3  00000002_000.png              No Finding  ...         0          0\n",
              "4  00000003_000.png                  Hernia  ...         0          0\n",
              "\n",
              "[5 rows x 21 columns]"
            ]
          },
          "metadata": {
            "tags": []
          },
          "execution_count": 18
        }
      ]
    },
    {
      "cell_type": "code",
      "metadata": {
        "id": "EDB3GVmMPbej",
        "colab_type": "code",
        "colab": {
          "base_uri": "https://localhost:8080/",
          "height": 626
        },
        "outputId": "1352a2b3-5b51-49ab-ea7d-f6adc565563c"
      },
      "source": [
        "plt.figure(figsize=(15,10))\n",
        "gs = gridspec.GridSpec(8,1)\n",
        "ax1 = plt.subplot(gs[:7, :])\n",
        "ax2 = plt.subplot(gs[7, :])\n",
        "data1 = pd.melt(data,\n",
        "             id_vars=['Patient Gender'],\n",
        "             value_vars = list(pathology_list),\n",
        "             var_name = 'Category',\n",
        "             value_name = 'Count')\n",
        "data1 = data1.loc[data1.Count>0]\n",
        "g=sns.countplot(y='Category',hue='Patient Gender',data=data1, ax=ax1, order = data1['Category'].value_counts().index)\n",
        "ax1.set( ylabel=\"\",xlabel=\"\")\n",
        "ax1.legend(fontsize=20)\n",
        "ax1.set_title('X Ray partition (total number = 121120)',fontsize=18);\n",
        "\n",
        "data['Nothing']=data['Finding Labels'].apply(lambda x: 1 if 'No Finding' in x else 0)\n",
        "\n",
        "data2 = pd.melt(data,\n",
        "             id_vars=['Patient Gender'],\n",
        "             value_vars = list(['Nothing']),\n",
        "             var_name = 'Category',\n",
        "             value_name = 'Count')\n",
        "data2 = data2.loc[data2.Count>0]\n",
        "g=sns.countplot(y='Category',hue='Patient Gender',data=data2,ax=ax2)\n",
        "ax2.set( ylabel=\"\",xlabel=\"Number of decease\")\n",
        "ax2.legend('')\n",
        "plt.subplots_adjust(hspace=.5)"
      ],
      "execution_count": 19,
      "outputs": [
        {
          "output_type": "display_data",
          "data": {
            "image/png": "[encoded data removed]",
            "text/plain": [
              "<Figure size 1080x720 with 2 Axes>"
            ]
          },
          "metadata": {
            "tags": []
          }
        }
      ]
    },
    {
      "cell_type": "code",
      "metadata": {
        "id": "xEd-t3wnPmzy",
        "colab_type": "code",
        "colab": {
          "base_uri": "https://localhost:8080/",
          "height": 627
        },
        "outputId": "8e2903e1-fe40-4a6f-bd73-610af56b3ff5"
      },
      "source": [
        "#ratio between one and multiple disease\n",
        "\n",
        "df=data.groupby('Finding Labels').count().sort_values('Patient ID',ascending=False)\n",
        "df1=df[['|' in index for index in df.index]].copy()\n",
        "df2=df[['|' not in index for index in df.index]]\n",
        "df2=df2[['No Finding' not in index for index in df2.index]]\n",
        "df2['Finding Labels']=df2.index.values\n",
        "df1['Finding Labels']=df1.index.values\n",
        "\n",
        "f, ax = plt.subplots(sharex=True,figsize=(15, 10))\n",
        "sns.set_color_codes(\"pastel\")\n",
        "g=sns.countplot(y='Category',data=data1, ax=ax, order = data1['Category'].value_counts().index,color='b',label=\"Multiple Pathologies\")\n",
        "sns.set_color_codes(\"muted\")\n",
        "g=sns.barplot(x='Patient ID',y='Finding Labels',data=df2, ax=ax, color=\"b\",label=\"Simple Pathology\")\n",
        "ax.legend(ncol=2, loc=\"center right\", frameon=True,fontsize=20)\n",
        "ax.set( ylabel=\"\",xlabel=\"Number of decease\")\n",
        "ax.set_title(\"Comparaison between simple or multiple decease\",fontsize=20)      \n",
        "sns.despine(left=True)"
      ],
      "execution_count": 20,
      "outputs": [
        {
          "output_type": "display_data",
          "data": {
            "image/png": "[encoded data removed]",
            "text/plain": [
              "<Figure size 1080x720 with 1 Axes>"
            ]
          },
          "metadata": {
            "tags": []
          }
        }
      ]
    },
    {
      "cell_type": "code",
      "metadata": {
        "id": "Fl41lvppPyw6",
        "colab_type": "code",
        "colab": {
          "base_uri": "https://localhost:8080/",
          "height": 730
        },
        "outputId": "70112d26-43dd-43ad-aa18-3be4ef24883f"
      },
      "source": [
        "#Plot most important pathologies groups for each desease\n",
        "\n",
        "#we just keep groups of pathologies which appear more than 30 times\n",
        "df3=df1.loc[df1['Patient ID']>30,['Patient ID','Finding Labels']]\n",
        "\n",
        "for pathology in pathology_list:\n",
        "    df3[pathology]=df3.apply(lambda x: x['Patient ID'] if pathology in x['Finding Labels'] else 0, axis=1)\n",
        "\n",
        "df3.head(20)"
      ],
      "execution_count": 21,
      "outputs": [
        {
          "output_type": "execute_result",
          "data": {
            "text/html": [
              "<div>\n",
              "<style scoped>\n",
              "    .dataframe tbody tr th:only-of-type {\n",
              "        vertical-align: middle;\n",
              "    }\n",
              "\n",
              "    .dataframe tbody tr th {\n",
              "        vertical-align: top;\n",
              "    }\n",
              "\n",
              "    .dataframe thead th {\n",
              "        text-align: right;\n",
              "    }\n",
              "</style>\n",
              "<table border=\"1\" class=\"dataframe\">\n",
              "  <thead>\n",
              "    <tr style=\"text-align: right;\">\n",
              "      <th></th>\n",
              "      <th>Patient ID</th>\n",
              "      <th>Finding Labels</th>\n",
              "      <th>Cardiomegaly</th>\n",
              "      <th>Emphysema</th>\n",
              "      <th>Effusion</th>\n",
              "      <th>Hernia</th>\n",
              "      <th>Nodule</th>\n",
              "      <th>Pneumothorax</th>\n",
              "      <th>Atelectasis</th>\n",
              "      <th>Pleural_Thickening</th>\n",
              "      <th>Mass</th>\n",
              "      <th>Edema</th>\n",
              "      <th>Consolidation</th>\n",
              "      <th>Infiltration</th>\n",
              "      <th>Fibrosis</th>\n",
              "      <th>Pneumonia</th>\n",
              "    </tr>\n",
              "    <tr>\n",
              "      <th>Finding Labels</th>\n",
              "      <th></th>\n",
              "      <th></th>\n",
              "      <th></th>\n",
              "      <th></th>\n",
              "      <th></th>\n",
              "      <th></th>\n",
              "      <th></th>\n",
              "      <th></th>\n",
              "      <th></th>\n",
              "      <th></th>\n",
              "      <th></th>\n",
              "      <th></th>\n",
              "      <th></th>\n",
              "      <th></th>\n",
              "      <th></th>\n",
              "      <th></th>\n",
              "    </tr>\n",
              "  </thead>\n",
              "  <tbody>\n",
              "    <tr>\n",
              "      <th>Effusion|Infiltration</th>\n",
              "      <td>1603</td>\n",
              "      <td>Effusion|Infiltration</td>\n",
              "      <td>0</td>\n",
              "      <td>0</td>\n",
              "      <td>1603</td>\n",
              "      <td>0</td>\n",
              "      <td>0</td>\n",
              "      <td>0</td>\n",
              "      <td>0</td>\n",
              "      <td>0</td>\n",
              "      <td>0</td>\n",
              "      <td>0</td>\n",
              "      <td>0</td>\n",
              "      <td>1603</td>\n",
              "      <td>0</td>\n",
              "      <td>0</td>\n",
              "    </tr>\n",
              "    <tr>\n",
              "      <th>Atelectasis|Infiltration</th>\n",
              "      <td>1350</td>\n",
              "      <td>Atelectasis|Infiltration</td>\n",
              "      <td>0</td>\n",
              "      <td>0</td>\n",
              "      <td>0</td>\n",
              "      <td>0</td>\n",
              "      <td>0</td>\n",
              "      <td>0</td>\n",
              "      <td>1350</td>\n",
              "      <td>0</td>\n",
              "      <td>0</td>\n",
              "      <td>0</td>\n",
              "      <td>0</td>\n",
              "      <td>1350</td>\n",
              "      <td>0</td>\n",
              "      <td>0</td>\n",
              "    </tr>\n",
              "    <tr>\n",
              "      <th>Atelectasis|Effusion</th>\n",
              "      <td>1165</td>\n",
              "      <td>Atelectasis|Effusion</td>\n",
              "      <td>0</td>\n",
              "      <td>0</td>\n",
              "      <td>1165</td>\n",
              "      <td>0</td>\n",
              "      <td>0</td>\n",
              "      <td>0</td>\n",
              "      <td>1165</td>\n",
              "      <td>0</td>\n",
              "      <td>0</td>\n",
              "      <td>0</td>\n",
              "      <td>0</td>\n",
              "      <td>0</td>\n",
              "      <td>0</td>\n",
              "      <td>0</td>\n",
              "    </tr>\n",
              "    <tr>\n",
              "      <th>Infiltration|Nodule</th>\n",
              "      <td>829</td>\n",
              "      <td>Infiltration|Nodule</td>\n",
              "      <td>0</td>\n",
              "      <td>0</td>\n",
              "      <td>0</td>\n",
              "      <td>0</td>\n",
              "      <td>829</td>\n",
              "      <td>0</td>\n",
              "      <td>0</td>\n",
              "      <td>0</td>\n",
              "      <td>0</td>\n",
              "      <td>0</td>\n",
              "      <td>0</td>\n",
              "      <td>829</td>\n",
              "      <td>0</td>\n",
              "      <td>0</td>\n",
              "    </tr>\n",
              "    <tr>\n",
              "      <th>Atelectasis|Effusion|Infiltration</th>\n",
              "      <td>737</td>\n",
              "      <td>Atelectasis|Effusion|Infiltration</td>\n",
              "      <td>0</td>\n",
              "      <td>0</td>\n",
              "      <td>737</td>\n",
              "      <td>0</td>\n",
              "      <td>0</td>\n",
              "      <td>0</td>\n",
              "      <td>737</td>\n",
              "      <td>0</td>\n",
              "      <td>0</td>\n",
              "      <td>0</td>\n",
              "      <td>0</td>\n",
              "      <td>737</td>\n",
              "      <td>0</td>\n",
              "      <td>0</td>\n",
              "    </tr>\n",
              "    <tr>\n",
              "      <th>Cardiomegaly|Effusion</th>\n",
              "      <td>484</td>\n",
              "      <td>Cardiomegaly|Effusion</td>\n",
              "      <td>484</td>\n",
              "      <td>0</td>\n",
              "      <td>484</td>\n",
              "      <td>0</td>\n",
              "      <td>0</td>\n",
              "      <td>0</td>\n",
              "      <td>0</td>\n",
              "      <td>0</td>\n",
              "      <td>0</td>\n",
              "      <td>0</td>\n",
              "      <td>0</td>\n",
              "      <td>0</td>\n",
              "      <td>0</td>\n",
              "      <td>0</td>\n",
              "    </tr>\n",
              "    <tr>\n",
              "      <th>Consolidation|Infiltration</th>\n",
              "      <td>441</td>\n",
              "      <td>Consolidation|Infiltration</td>\n",
              "      <td>0</td>\n",
              "      <td>0</td>\n",
              "      <td>0</td>\n",
              "      <td>0</td>\n",
              "      <td>0</td>\n",
              "      <td>0</td>\n",
              "      <td>0</td>\n",
              "      <td>0</td>\n",
              "      <td>0</td>\n",
              "      <td>0</td>\n",
              "      <td>441</td>\n",
              "      <td>441</td>\n",
              "      <td>0</td>\n",
              "      <td>0</td>\n",
              "    </tr>\n",
              "    <tr>\n",
              "      <th>Infiltration|Mass</th>\n",
              "      <td>418</td>\n",
              "      <td>Infiltration|Mass</td>\n",
              "      <td>0</td>\n",
              "      <td>0</td>\n",
              "      <td>0</td>\n",
              "      <td>0</td>\n",
              "      <td>0</td>\n",
              "      <td>0</td>\n",
              "      <td>0</td>\n",
              "      <td>0</td>\n",
              "      <td>418</td>\n",
              "      <td>0</td>\n",
              "      <td>0</td>\n",
              "      <td>418</td>\n",
              "      <td>0</td>\n",
              "      <td>0</td>\n",
              "    </tr>\n",
              "    <tr>\n",
              "      <th>Effusion|Pneumothorax</th>\n",
              "      <td>403</td>\n",
              "      <td>Effusion|Pneumothorax</td>\n",
              "      <td>0</td>\n",
              "      <td>0</td>\n",
              "      <td>403</td>\n",
              "      <td>0</td>\n",
              "      <td>0</td>\n",
              "      <td>403</td>\n",
              "      <td>0</td>\n",
              "      <td>0</td>\n",
              "      <td>0</td>\n",
              "      <td>0</td>\n",
              "      <td>0</td>\n",
              "      <td>0</td>\n",
              "      <td>0</td>\n",
              "      <td>0</td>\n",
              "    </tr>\n",
              "    <tr>\n",
              "      <th>Effusion|Mass</th>\n",
              "      <td>402</td>\n",
              "      <td>Effusion|Mass</td>\n",
              "      <td>0</td>\n",
              "      <td>0</td>\n",
              "      <td>402</td>\n",
              "      <td>0</td>\n",
              "      <td>0</td>\n",
              "      <td>0</td>\n",
              "      <td>0</td>\n",
              "      <td>0</td>\n",
              "      <td>402</td>\n",
              "      <td>0</td>\n",
              "      <td>0</td>\n",
              "      <td>0</td>\n",
              "      <td>0</td>\n",
              "      <td>0</td>\n",
              "    </tr>\n",
              "    <tr>\n",
              "      <th>Atelectasis|Consolidation</th>\n",
              "      <td>398</td>\n",
              "      <td>Atelectasis|Consolidation</td>\n",
              "      <td>0</td>\n",
              "      <td>0</td>\n",
              "      <td>0</td>\n",
              "      <td>0</td>\n",
              "      <td>0</td>\n",
              "      <td>0</td>\n",
              "      <td>398</td>\n",
              "      <td>0</td>\n",
              "      <td>0</td>\n",
              "      <td>0</td>\n",
              "      <td>398</td>\n",
              "      <td>0</td>\n",
              "      <td>0</td>\n",
              "      <td>0</td>\n",
              "    </tr>\n",
              "    <tr>\n",
              "      <th>Mass|Nodule</th>\n",
              "      <td>394</td>\n",
              "      <td>Mass|Nodule</td>\n",
              "      <td>0</td>\n",
              "      <td>0</td>\n",
              "      <td>0</td>\n",
              "      <td>0</td>\n",
              "      <td>394</td>\n",
              "      <td>0</td>\n",
              "      <td>0</td>\n",
              "      <td>0</td>\n",
              "      <td>394</td>\n",
              "      <td>0</td>\n",
              "      <td>0</td>\n",
              "      <td>0</td>\n",
              "      <td>0</td>\n",
              "      <td>0</td>\n",
              "    </tr>\n",
              "    <tr>\n",
              "      <th>Edema|Infiltration</th>\n",
              "      <td>392</td>\n",
              "      <td>Edema|Infiltration</td>\n",
              "      <td>0</td>\n",
              "      <td>0</td>\n",
              "      <td>0</td>\n",
              "      <td>0</td>\n",
              "      <td>0</td>\n",
              "      <td>0</td>\n",
              "      <td>0</td>\n",
              "      <td>0</td>\n",
              "      <td>0</td>\n",
              "      <td>392</td>\n",
              "      <td>0</td>\n",
              "      <td>392</td>\n",
              "      <td>0</td>\n",
              "      <td>0</td>\n",
              "    </tr>\n",
              "    <tr>\n",
              "      <th>Infiltration|Pneumothorax</th>\n",
              "      <td>345</td>\n",
              "      <td>Infiltration|Pneumothorax</td>\n",
              "      <td>0</td>\n",
              "      <td>0</td>\n",
              "      <td>0</td>\n",
              "      <td>0</td>\n",
              "      <td>0</td>\n",
              "      <td>345</td>\n",
              "      <td>0</td>\n",
              "      <td>0</td>\n",
              "      <td>0</td>\n",
              "      <td>0</td>\n",
              "      <td>0</td>\n",
              "      <td>345</td>\n",
              "      <td>0</td>\n",
              "      <td>0</td>\n",
              "    </tr>\n",
              "    <tr>\n",
              "      <th>Consolidation|Effusion</th>\n",
              "      <td>337</td>\n",
              "      <td>Consolidation|Effusion</td>\n",
              "      <td>0</td>\n",
              "      <td>0</td>\n",
              "      <td>337</td>\n",
              "      <td>0</td>\n",
              "      <td>0</td>\n",
              "      <td>0</td>\n",
              "      <td>0</td>\n",
              "      <td>0</td>\n",
              "      <td>0</td>\n",
              "      <td>0</td>\n",
              "      <td>337</td>\n",
              "      <td>0</td>\n",
              "      <td>0</td>\n",
              "      <td>0</td>\n",
              "    </tr>\n",
              "    <tr>\n",
              "      <th>Emphysema|Pneumothorax</th>\n",
              "      <td>337</td>\n",
              "      <td>Emphysema|Pneumothorax</td>\n",
              "      <td>0</td>\n",
              "      <td>337</td>\n",
              "      <td>0</td>\n",
              "      <td>0</td>\n",
              "      <td>0</td>\n",
              "      <td>337</td>\n",
              "      <td>0</td>\n",
              "      <td>0</td>\n",
              "      <td>0</td>\n",
              "      <td>0</td>\n",
              "      <td>0</td>\n",
              "      <td>0</td>\n",
              "      <td>0</td>\n",
              "      <td>0</td>\n",
              "    </tr>\n",
              "    <tr>\n",
              "      <th>Effusion|Pleural_Thickening</th>\n",
              "      <td>251</td>\n",
              "      <td>Effusion|Pleural_Thickening</td>\n",
              "      <td>0</td>\n",
              "      <td>0</td>\n",
              "      <td>251</td>\n",
              "      <td>0</td>\n",
              "      <td>0</td>\n",
              "      <td>0</td>\n",
              "      <td>0</td>\n",
              "      <td>251</td>\n",
              "      <td>0</td>\n",
              "      <td>0</td>\n",
              "      <td>0</td>\n",
              "      <td>0</td>\n",
              "      <td>0</td>\n",
              "      <td>0</td>\n",
              "    </tr>\n",
              "    <tr>\n",
              "      <th>Effusion|Nodule</th>\n",
              "      <td>249</td>\n",
              "      <td>Effusion|Nodule</td>\n",
              "      <td>0</td>\n",
              "      <td>0</td>\n",
              "      <td>249</td>\n",
              "      <td>0</td>\n",
              "      <td>249</td>\n",
              "      <td>0</td>\n",
              "      <td>0</td>\n",
              "      <td>0</td>\n",
              "      <td>0</td>\n",
              "      <td>0</td>\n",
              "      <td>0</td>\n",
              "      <td>0</td>\n",
              "      <td>0</td>\n",
              "      <td>0</td>\n",
              "    </tr>\n",
              "    <tr>\n",
              "      <th>Atelectasis|Pneumothorax</th>\n",
              "      <td>240</td>\n",
              "      <td>Atelectasis|Pneumothorax</td>\n",
              "      <td>0</td>\n",
              "      <td>0</td>\n",
              "      <td>0</td>\n",
              "      <td>0</td>\n",
              "      <td>0</td>\n",
              "      <td>240</td>\n",
              "      <td>240</td>\n",
              "      <td>0</td>\n",
              "      <td>0</td>\n",
              "      <td>0</td>\n",
              "      <td>0</td>\n",
              "      <td>0</td>\n",
              "      <td>0</td>\n",
              "      <td>0</td>\n",
              "    </tr>\n",
              "    <tr>\n",
              "      <th>Infiltration|Pleural_Thickening</th>\n",
              "      <td>210</td>\n",
              "      <td>Infiltration|Pleural_Thickening</td>\n",
              "      <td>0</td>\n",
              "      <td>0</td>\n",
              "      <td>0</td>\n",
              "      <td>0</td>\n",
              "      <td>0</td>\n",
              "      <td>0</td>\n",
              "      <td>0</td>\n",
              "      <td>210</td>\n",
              "      <td>0</td>\n",
              "      <td>0</td>\n",
              "      <td>0</td>\n",
              "      <td>210</td>\n",
              "      <td>0</td>\n",
              "      <td>0</td>\n",
              "    </tr>\n",
              "  </tbody>\n",
              "</table>\n",
              "</div>"
            ],
            "text/plain": [
              "                                   Patient ID  ... Pneumonia\n",
              "Finding Labels                                 ...          \n",
              "Effusion|Infiltration                    1603  ...         0\n",
              "Atelectasis|Infiltration                 1350  ...         0\n",
              "Atelectasis|Effusion                     1165  ...         0\n",
              "Infiltration|Nodule                       829  ...         0\n",
              "Atelectasis|Effusion|Infiltration         737  ...         0\n",
              "Cardiomegaly|Effusion                     484  ...         0\n",
              "Consolidation|Infiltration                441  ...         0\n",
              "Infiltration|Mass                         418  ...         0\n",
              "Effusion|Pneumothorax                     403  ...         0\n",
              "Effusion|Mass                             402  ...         0\n",
              "Atelectasis|Consolidation                 398  ...         0\n",
              "Mass|Nodule                               394  ...         0\n",
              "Edema|Infiltration                        392  ...         0\n",
              "Infiltration|Pneumothorax                 345  ...         0\n",
              "Consolidation|Effusion                    337  ...         0\n",
              "Emphysema|Pneumothorax                    337  ...         0\n",
              "Effusion|Pleural_Thickening               251  ...         0\n",
              "Effusion|Nodule                           249  ...         0\n",
              "Atelectasis|Pneumothorax                  240  ...         0\n",
              "Infiltration|Pleural_Thickening           210  ...         0\n",
              "\n",
              "[20 rows x 16 columns]"
            ]
          },
          "metadata": {
            "tags": []
          },
          "execution_count": 21
        }
      ]
    },
    {
      "cell_type": "code",
      "metadata": {
        "id": "EeTadyK5P4r6",
        "colab_type": "code",
        "colab": {}
      },
      "source": [
        "# Application of DENSENET on NIH Chest X-Ray"
      ],
      "execution_count": 0,
      "outputs": []
    },
    {
      "cell_type": "code",
      "metadata": {
        "id": "FKUYkpH-QlVo",
        "colab_type": "code",
        "colab": {
          "base_uri": "https://localhost:8080/",
          "height": 195
        },
        "outputId": "927f84de-baf8-45d6-cdff-3cf9ed218163"
      },
      "source": [
        "# Creating data for model\n",
        "\n",
        "\n",
        "data = data[data['Patient Age']<100] #removing datapoints which having age greater than 100\n",
        "data_image_paths = {os.path.basename(x): x for x in \n",
        "                   glob(os.path.join('..', 'input', 'images*', '*', '*.png'))}\n",
        "print('Scans found:', len(data_image_paths), ', Total Headers', data.shape[0])\n",
        "data['path'] = data['Image Index'].map(data_image_paths.get)\n",
        "data['Patient Age'] = data['Patient Age'].map(lambda x: int(x))\n",
        "data.sample(3)"
      ],
      "execution_count": 23,
      "outputs": [
        {
          "output_type": "stream",
          "text": [
            "Scans found: 0 , Total Headers 112104\n"
          ],
          "name": "stdout"
        },
        {
          "output_type": "execute_result",
          "data": {
            "text/html": [
              "<div>\n",
              "<style scoped>\n",
              "    .dataframe tbody tr th:only-of-type {\n",
              "        vertical-align: middle;\n",
              "    }\n",
              "\n",
              "    .dataframe tbody tr th {\n",
              "        vertical-align: top;\n",
              "    }\n",
              "\n",
              "    .dataframe thead th {\n",
              "        text-align: right;\n",
              "    }\n",
              "</style>\n",
              "<table border=\"1\" class=\"dataframe\">\n",
              "  <thead>\n",
              "    <tr style=\"text-align: right;\">\n",
              "      <th></th>\n",
              "      <th>Image Index</th>\n",
              "      <th>Finding Labels</th>\n",
              "      <th>Follow-up #</th>\n",
              "      <th>Patient ID</th>\n",
              "      <th>Patient Age</th>\n",
              "      <th>Patient Gender</th>\n",
              "      <th>Labels_Count</th>\n",
              "      <th>Cardiomegaly</th>\n",
              "      <th>Emphysema</th>\n",
              "      <th>Effusion</th>\n",
              "      <th>Hernia</th>\n",
              "      <th>Nodule</th>\n",
              "      <th>Pneumothorax</th>\n",
              "      <th>Atelectasis</th>\n",
              "      <th>Pleural_Thickening</th>\n",
              "      <th>Mass</th>\n",
              "      <th>Edema</th>\n",
              "      <th>Consolidation</th>\n",
              "      <th>Infiltration</th>\n",
              "      <th>Fibrosis</th>\n",
              "      <th>Pneumonia</th>\n",
              "      <th>Nothing</th>\n",
              "      <th>path</th>\n",
              "    </tr>\n",
              "  </thead>\n",
              "  <tbody>\n",
              "    <tr>\n",
              "      <th>110392</th>\n",
              "      <td>00030076_000.png</td>\n",
              "      <td>Pneumothorax</td>\n",
              "      <td>0</td>\n",
              "      <td>30076</td>\n",
              "      <td>59</td>\n",
              "      <td>F</td>\n",
              "      <td>1</td>\n",
              "      <td>0</td>\n",
              "      <td>0</td>\n",
              "      <td>0</td>\n",
              "      <td>0</td>\n",
              "      <td>0</td>\n",
              "      <td>1</td>\n",
              "      <td>0</td>\n",
              "      <td>0</td>\n",
              "      <td>0</td>\n",
              "      <td>0</td>\n",
              "      <td>0</td>\n",
              "      <td>0</td>\n",
              "      <td>0</td>\n",
              "      <td>0</td>\n",
              "      <td>0</td>\n",
              "      <td>None</td>\n",
              "    </tr>\n",
              "    <tr>\n",
              "      <th>106442</th>\n",
              "      <td>00028677_003.png</td>\n",
              "      <td>Consolidation|Emphysema</td>\n",
              "      <td>3</td>\n",
              "      <td>28677</td>\n",
              "      <td>49</td>\n",
              "      <td>M</td>\n",
              "      <td>2</td>\n",
              "      <td>0</td>\n",
              "      <td>1</td>\n",
              "      <td>0</td>\n",
              "      <td>0</td>\n",
              "      <td>0</td>\n",
              "      <td>0</td>\n",
              "      <td>0</td>\n",
              "      <td>0</td>\n",
              "      <td>0</td>\n",
              "      <td>0</td>\n",
              "      <td>1</td>\n",
              "      <td>0</td>\n",
              "      <td>0</td>\n",
              "      <td>0</td>\n",
              "      <td>0</td>\n",
              "      <td>None</td>\n",
              "    </tr>\n",
              "    <tr>\n",
              "      <th>75813</th>\n",
              "      <td>00018610_013.png</td>\n",
              "      <td>No Finding</td>\n",
              "      <td>13</td>\n",
              "      <td>18610</td>\n",
              "      <td>64</td>\n",
              "      <td>M</td>\n",
              "      <td>0</td>\n",
              "      <td>0</td>\n",
              "      <td>0</td>\n",
              "      <td>0</td>\n",
              "      <td>0</td>\n",
              "      <td>0</td>\n",
              "      <td>0</td>\n",
              "      <td>0</td>\n",
              "      <td>0</td>\n",
              "      <td>0</td>\n",
              "      <td>0</td>\n",
              "      <td>0</td>\n",
              "      <td>0</td>\n",
              "      <td>0</td>\n",
              "      <td>0</td>\n",
              "      <td>1</td>\n",
              "      <td>None</td>\n",
              "    </tr>\n",
              "  </tbody>\n",
              "</table>\n",
              "</div>"
            ],
            "text/plain": [
              "             Image Index           Finding Labels  ...  Nothing  path\n",
              "110392  00030076_000.png             Pneumothorax  ...        0  None\n",
              "106442  00028677_003.png  Consolidation|Emphysema  ...        0  None\n",
              "75813   00018610_013.png               No Finding  ...        1  None\n",
              "\n",
              "[3 rows x 23 columns]"
            ]
          },
          "metadata": {
            "tags": []
          },
          "execution_count": 23
        }
      ]
    },
    {
      "cell_type": "code",
      "metadata": {
        "id": "DJig6QosQluQ",
        "colab_type": "code",
        "colab": {
          "base_uri": "https://localhost:8080/",
          "height": 195
        },
        "outputId": "0d981590-964a-4716-f997-d8d89ca8b7f0"
      },
      "source": [
        "data['Finding Labels'] = data['Finding Labels'].map(lambda x: x.replace('No Finding', ''))\n",
        "from itertools import chain\n",
        "all_labels = np.unique(list(chain(*data['Finding Labels'].map(lambda x: x.split('|')).tolist())))\n",
        "all_labels = [x for x in all_labels if len(x)>0]\n",
        "print('All Labels ({}): {}'.format(len(all_labels), all_labels))\n",
        "for c_label in all_labels:\n",
        "    if len(c_label)>1: # leave out empty labels\n",
        "        data[c_label] = data['Finding Labels'].map(lambda finding: 1.0 if c_label in finding else 0)\n",
        "data.sample(3)"
      ],
      "execution_count": 24,
      "outputs": [
        {
          "output_type": "stream",
          "text": [
            "All Labels (14): ['Atelectasis', 'Cardiomegaly', 'Consolidation', 'Edema', 'Effusion', 'Emphysema', 'Fibrosis', 'Hernia', 'Infiltration', 'Mass', 'Nodule', 'Pleural_Thickening', 'Pneumonia', 'Pneumothorax']\n"
          ],
          "name": "stdout"
        },
        {
          "output_type": "execute_result",
          "data": {
            "text/html": [
              "<div>\n",
              "<style scoped>\n",
              "    .dataframe tbody tr th:only-of-type {\n",
              "        vertical-align: middle;\n",
              "    }\n",
              "\n",
              "    .dataframe tbody tr th {\n",
              "        vertical-align: top;\n",
              "    }\n",
              "\n",
              "    .dataframe thead th {\n",
              "        text-align: right;\n",
              "    }\n",
              "</style>\n",
              "<table border=\"1\" class=\"dataframe\">\n",
              "  <thead>\n",
              "    <tr style=\"text-align: right;\">\n",
              "      <th></th>\n",
              "      <th>Image Index</th>\n",
              "      <th>Finding Labels</th>\n",
              "      <th>Follow-up #</th>\n",
              "      <th>Patient ID</th>\n",
              "      <th>Patient Age</th>\n",
              "      <th>Patient Gender</th>\n",
              "      <th>Labels_Count</th>\n",
              "      <th>Cardiomegaly</th>\n",
              "      <th>Emphysema</th>\n",
              "      <th>Effusion</th>\n",
              "      <th>Hernia</th>\n",
              "      <th>Nodule</th>\n",
              "      <th>Pneumothorax</th>\n",
              "      <th>Atelectasis</th>\n",
              "      <th>Pleural_Thickening</th>\n",
              "      <th>Mass</th>\n",
              "      <th>Edema</th>\n",
              "      <th>Consolidation</th>\n",
              "      <th>Infiltration</th>\n",
              "      <th>Fibrosis</th>\n",
              "      <th>Pneumonia</th>\n",
              "      <th>Nothing</th>\n",
              "      <th>path</th>\n",
              "    </tr>\n",
              "  </thead>\n",
              "  <tbody>\n",
              "    <tr>\n",
              "      <th>13882</th>\n",
              "      <td>00003578_000.png</td>\n",
              "      <td></td>\n",
              "      <td>0</td>\n",
              "      <td>3578</td>\n",
              "      <td>44</td>\n",
              "      <td>F</td>\n",
              "      <td>0</td>\n",
              "      <td>0.0</td>\n",
              "      <td>0.0</td>\n",
              "      <td>0.0</td>\n",
              "      <td>0.0</td>\n",
              "      <td>0.0</td>\n",
              "      <td>0.0</td>\n",
              "      <td>0.0</td>\n",
              "      <td>0.0</td>\n",
              "      <td>0.0</td>\n",
              "      <td>0.0</td>\n",
              "      <td>0.0</td>\n",
              "      <td>0.0</td>\n",
              "      <td>0.0</td>\n",
              "      <td>0.0</td>\n",
              "      <td>1</td>\n",
              "      <td>None</td>\n",
              "    </tr>\n",
              "    <tr>\n",
              "      <th>103338</th>\n",
              "      <td>00027562_000.png</td>\n",
              "      <td></td>\n",
              "      <td>0</td>\n",
              "      <td>27562</td>\n",
              "      <td>40</td>\n",
              "      <td>F</td>\n",
              "      <td>0</td>\n",
              "      <td>0.0</td>\n",
              "      <td>0.0</td>\n",
              "      <td>0.0</td>\n",
              "      <td>0.0</td>\n",
              "      <td>0.0</td>\n",
              "      <td>0.0</td>\n",
              "      <td>0.0</td>\n",
              "      <td>0.0</td>\n",
              "      <td>0.0</td>\n",
              "      <td>0.0</td>\n",
              "      <td>0.0</td>\n",
              "      <td>0.0</td>\n",
              "      <td>0.0</td>\n",
              "      <td>0.0</td>\n",
              "      <td>1</td>\n",
              "      <td>None</td>\n",
              "    </tr>\n",
              "    <tr>\n",
              "      <th>94447</th>\n",
              "      <td>00024216_000.png</td>\n",
              "      <td></td>\n",
              "      <td>0</td>\n",
              "      <td>24216</td>\n",
              "      <td>34</td>\n",
              "      <td>M</td>\n",
              "      <td>0</td>\n",
              "      <td>0.0</td>\n",
              "      <td>0.0</td>\n",
              "      <td>0.0</td>\n",
              "      <td>0.0</td>\n",
              "      <td>0.0</td>\n",
              "      <td>0.0</td>\n",
              "      <td>0.0</td>\n",
              "      <td>0.0</td>\n",
              "      <td>0.0</td>\n",
              "      <td>0.0</td>\n",
              "      <td>0.0</td>\n",
              "      <td>0.0</td>\n",
              "      <td>0.0</td>\n",
              "      <td>0.0</td>\n",
              "      <td>1</td>\n",
              "      <td>None</td>\n",
              "    </tr>\n",
              "  </tbody>\n",
              "</table>\n",
              "</div>"
            ],
            "text/plain": [
              "             Image Index Finding Labels  Follow-up #  ...  Pneumonia  Nothing  path\n",
              "13882   00003578_000.png                           0  ...        0.0        1  None\n",
              "103338  00027562_000.png                           0  ...        0.0        1  None\n",
              "94447   00024216_000.png                           0  ...        0.0        1  None\n",
              "\n",
              "[3 rows x 23 columns]"
            ]
          },
          "metadata": {
            "tags": []
          },
          "execution_count": 24
        }
      ]
    },
    {
      "cell_type": "code",
      "metadata": {
        "id": "YKPunxq2QyfP",
        "colab_type": "code",
        "colab": {
          "base_uri": "https://localhost:8080/",
          "height": 55
        },
        "outputId": "4b2531ba-0452-401a-c432-ff61d8211766"
      },
      "source": [
        "# keep at least 1000 cases\n",
        "MIN_CASES = 1000\n",
        "all_labels = [c_label for c_label in all_labels if data[c_label].sum()>MIN_CASES]\n",
        "print('Clean Labels ({})'.format(len(all_labels)), \n",
        "      [(c_label,int(data[c_label].sum())) for c_label in all_labels])"
      ],
      "execution_count": 25,
      "outputs": [
        {
          "output_type": "stream",
          "text": [
            "Clean Labels (13) [('Atelectasis', 11558), ('Cardiomegaly', 2776), ('Consolidation', 4667), ('Edema', 2302), ('Effusion', 13316), ('Emphysema', 2516), ('Fibrosis', 1686), ('Infiltration', 19891), ('Mass', 5779), ('Nodule', 6331), ('Pleural_Thickening', 3384), ('Pneumonia', 1430), ('Pneumothorax', 5301)]\n"
          ],
          "name": "stdout"
        }
      ]
    },
    {
      "cell_type": "code",
      "metadata": {
        "id": "z4cZR4xyQ15u",
        "colab_type": "code",
        "colab": {
          "base_uri": "https://localhost:8080/",
          "height": 626
        },
        "outputId": "dc4b6066-e0b4-44d5-d5ca-8b023f8a0f84"
      },
      "source": [
        "# since the dataset is very unbiased, we can resample it to be a more reasonable collection\n",
        "# weight is 0.04 + number of findings\n",
        "sample_weights = data['Finding Labels'].map(lambda x: len(x.split('|')) if len(x)>0 else 0).values + 4e-2\n",
        "sample_weights /= sample_weights.sum()\n",
        "data = data.sample(40000, weights=sample_weights)\n",
        "\n",
        "label_counts = data['Finding Labels'].value_counts()[:15]\n",
        "fig, ax1 = plt.subplots(1,1,figsize = (12, 8))\n",
        "ax1.bar(np.arange(len(label_counts))+0.5, label_counts)\n",
        "ax1.set_xticks(np.arange(len(label_counts))+0.5)\n",
        "_ = ax1.set_xticklabels(label_counts.index, rotation = 90)\n",
        "\n"
      ],
      "execution_count": 26,
      "outputs": [
        {
          "output_type": "display_data",
          "data": {
            "image/png": "[encoded data removed]",
            "text/plain": [
              "<Figure size 864x576 with 1 Axes>"
            ]
          },
          "metadata": {
            "tags": []
          }
        }
      ]
    },
    {
      "cell_type": "code",
      "metadata": {
        "id": "4y4Yy4vsQ4qX",
        "colab_type": "code",
        "colab": {}
      },
      "source": [
        "# creating vector of diseases\n",
        "data['disease_vec'] = data.apply(lambda x: [x[all_labels].values], 1).map(lambda x: x[0])"
      ],
      "execution_count": 0,
      "outputs": []
    },
    {
      "cell_type": "code",
      "metadata": {
        "id": "YoVk5hDpQ8wW",
        "colab_type": "code",
        "colab": {}
      },
      "source": [
        "data['disease_vec'].describe()"
      ],
      "execution_count": 0,
      "outputs": []
    },
    {
      "cell_type": "code",
      "metadata": {
        "id": "KpZGoFbORMse",
        "colab_type": "code",
        "colab": {}
      },
      "source": [
        "train_df, test_df = train_test_split(data, \n",
        "                                   test_size = 0.20, \n",
        "                                   random_state = 2018,\n",
        "                                   stratify = data['Finding Labels'].map(lambda x: x[:4]))\n",
        "print('train', train_df.shape[0], 'test', test_df.shape[0])"
      ],
      "execution_count": 0,
      "outputs": []
    },
    {
      "cell_type": "code",
      "metadata": {
        "id": "CfxDhAtgRbIm",
        "colab_type": "code",
        "colab": {}
      },
      "source": [
        "train_df, valid_df = train_test_split(train_df, \n",
        "                                   test_size = 0.10, \n",
        "                                   random_state = 2018,\n",
        "                                   stratify = train_df['Finding Labels'].map(lambda x: x[:4]))\n",
        "print('train', train_df.shape[0], 'valid', valid_df.shape[0])"
      ],
      "execution_count": 0,
      "outputs": []
    },
    {
      "cell_type": "code",
      "metadata": {
        "id": "yb7tux6NReNd",
        "colab_type": "code",
        "colab": {}
      },
      "source": [
        "def flow_from_dataframe(img_data_gen, in_df, path_col, y_col, **dflow_args):\n",
        "    base_dir = os.path.dirname(in_df[path_col].values[0])\n",
        "    print('## Ignore next message from keras, values are replaced anyways')\n",
        "    df_gen = img_data_gen.flow_from_directory(base_dir, \n",
        "                                     class_mode = 'sparse',\n",
        "                                    **dflow_args)\n",
        "    df_gen.filenames = in_df[path_col].values\n",
        "    df_gen.classes = np.stack(in_df[y_col].values)\n",
        "    df_gen.samples = in_df.shape[0]\n",
        "    df_gen.n = in_df.shape[0]\n",
        "    df_gen._set_index_array()\n",
        "    df_gen.directory = '' # since we have the full path\n",
        "    print('Reinserting dataframe: {} images'.format(in_df.shape[0]))\n",
        "    return df_gen"
      ],
      "execution_count": 0,
      "outputs": []
    },
    {
      "cell_type": "code",
      "metadata": {
        "id": "hj6IqS2uRpWv",
        "colab_type": "code",
        "colab": {}
      },
      "source": [
        "IMG_SIZE = (224, 224) # slightly smaller than vgg16 normally expects\n",
        "core_idg_dense = ImageDataGenerator()"
      ],
      "execution_count": 0,
      "outputs": []
    },
    {
      "cell_type": "code",
      "metadata": {
        "id": "ikJxUw36SCun",
        "colab_type": "code",
        "colab": {}
      },
      "source": [
        "\n",
        "train_gen = flow_from_dataframe(core_idg_dense, train_df, \n",
        "                             path_col = 'path',\n",
        "                            y_col = 'disease_vec', \n",
        "                            target_size = IMG_SIZE,\n",
        "                             color_mode = 'rgb',\n",
        "                            batch_size = 16)\n",
        "\n",
        "valid_gen = flow_from_dataframe(core_idg_dense, valid_df, \n",
        "                             path_col = 'path',\n",
        "                            y_col = 'disease_vec', \n",
        "                            target_size = IMG_SIZE,\n",
        "                             color_mode = 'rgb',\n",
        "                            batch_size = 32) # we can use much larger batches for evaluation\n",
        "# used a fixed dataset for evaluating the algorithm\n",
        "test_X, test_Y = next(flow_from_dataframe(core_idg_dense, \n",
        "                               test_df, \n",
        "                             path_col = 'path',\n",
        "                            y_col = 'disease_vec', \n",
        "                            target_size = IMG_SIZE,\n",
        "                             color_mode = 'rgb',\n",
        "                            batch_size = 8000)) # one big batch\n",
        "# used a fixed dataset for final evaluation"
      ],
      "execution_count": 0,
      "outputs": []
    },
    {
      "cell_type": "code",
      "metadata": {
        "id": "AGbbEUZQSDNV",
        "colab_type": "code",
        "colab": {}
      },
      "source": [
        "t_x, t_y = next(train_gen)\n",
        "fig, m_axs = plt.subplots(4, 4, figsize = (16, 16))\n",
        "for (c_x, c_y, c_ax) in zip(t_x, t_y, m_axs.flatten()):\n",
        "    c_ax.imshow(c_x[:,:,0])\n",
        "    c_ax.set_title(', '.join([n_class for n_class, n_score in zip(all_labels, c_y) \n",
        "                             if n_score>0.5]))\n",
        "    c_ax.axis('off')"
      ],
      "execution_count": 0,
      "outputs": []
    },
    {
      "cell_type": "code",
      "metadata": {
        "id": "NeLxWvwiSGSG",
        "colab_type": "code",
        "colab": {}
      },
      "source": [
        "###\n",
        "### dense net model\n",
        "###\n",
        "###\n",
        "img_in = Input(t_x.shape[1:])              #input of model \n",
        "model = DenseNet121(include_top= False , # remove  the 3 fully-connected layers at the top of the network\n",
        "                weights='imagenet',      # pre train weight \n",
        "                input_tensor= img_in, \n",
        "                input_shape= t_x.shape[1:],\n",
        "                pooling ='avg') \n",
        "\n",
        "x = model.output  \n",
        "predictions = Dense(len(all_labels), activation=\"sigmoid\", name=\"predictions\")(x)    # fuly connected layer for predict class \n",
        "model = Model(inputs=img_in, outputs=predictions)"
      ],
      "execution_count": 0,
      "outputs": []
    },
    {
      "cell_type": "code",
      "metadata": {
        "id": "HKpdiUpGSMnv",
        "colab_type": "code",
        "colab": {}
      },
      "source": [
        "optimizer = Adam(lr=0.001)\n",
        "model.compile(optimizer=optimizer, loss=\"binary_crossentropy\", metrics=[keras.metrics.binary_accuracy])"
      ],
      "execution_count": 0,
      "outputs": []
    },
    {
      "cell_type": "code",
      "metadata": {
        "id": "cNGf9F9ISRDO",
        "colab_type": "code",
        "colab": {}
      },
      "source": [
        "history = model.fit_generator(train_gen, \n",
        "                                  steps_per_epoch=100,\n",
        "                                  validation_data = valid_gen, \n",
        "                                  epochs = 20)"
      ],
      "execution_count": 0,
      "outputs": []
    },
    {
      "cell_type": "code",
      "metadata": {
        "id": "Q_FKytTrSWRG",
        "colab_type": "code",
        "colab": {}
      },
      "source": [
        "y_pred = model.predict(test_X)"
      ],
      "execution_count": 0,
      "outputs": []
    },
    {
      "cell_type": "code",
      "metadata": {
        "id": "uyCzpFz5SWkf",
        "colab_type": "code",
        "colab": {}
      },
      "source": [
        "# look at how often the algorithm predicts certain diagnoses \n",
        "for c_label, p_count, t_count in zip(all_labels, \n",
        "                                     100*np.mean(y_pred,0), \n",
        "                                     100*np.mean(test_Y,0)):\n",
        "    print('%s: actual: %2.2f%%, predicted: %2.2f%%' % (c_label, t_count, p_count))"
      ],
      "execution_count": 0,
      "outputs": []
    },
    {
      "cell_type": "code",
      "metadata": {
        "id": "XeOePem8SY5Q",
        "colab_type": "code",
        "colab": {}
      },
      "source": [
        "fig, c_ax = plt.subplots(1,1, figsize = (9, 9))\n",
        "for (idx, c_label) in enumerate(all_labels):\n",
        "    fpr, tpr, thresholds = roc_curve(test_Y[:,idx].astype(int), y_pred[:,idx])\n",
        "    c_ax.plot(fpr, tpr, label = '%s (AUC:%0.2f)'  % (c_label, auc(fpr, tpr)))\n",
        "c_ax.legend()\n",
        "c_ax.set_xlabel('False Positive Rate')\n",
        "c_ax.set_ylabel('True Positive Rate')\n",
        "fig.savefig('trained_net.png')"
      ],
      "execution_count": 0,
      "outputs": []
    },
    {
      "cell_type": "code",
      "metadata": {
        "id": "a583xWetSiF_",
        "colab_type": "code",
        "colab": {}
      },
      "source": [
        "roc_auc_score(test_Y.astype(int), y_pred)"
      ],
      "execution_count": 0,
      "outputs": []
    },
    {
      "cell_type": "code",
      "metadata": {
        "id": "W3rfehWkSmX2",
        "colab_type": "code",
        "colab": {}
      },
      "source": [
        "history = model.fit_generator(train_gen, \n",
        "                                  steps_per_epoch=100,\n",
        "                                  validation_data = valid_gen, \n",
        "                                  epochs = 20)"
      ],
      "execution_count": 0,
      "outputs": []
    },
    {
      "cell_type": "code",
      "metadata": {
        "id": "2fNF8y_hSo6v",
        "colab_type": "code",
        "colab": {}
      },
      "source": [
        "y_pred = model.predict(test_X)"
      ],
      "execution_count": 0,
      "outputs": []
    },
    {
      "cell_type": "code",
      "metadata": {
        "id": "lOaVU0YzSsv9",
        "colab_type": "code",
        "colab": {}
      },
      "source": [
        "# look at how often the algorithm predicts certain diagnoses \n",
        "for c_label, p_count, t_count in zip(all_labels, \n",
        "                                     100*np.mean(y_pred,0), \n",
        "                                     100*np.mean(test_Y,0)):\n",
        "    print('%s: actual: %2.2f%%, predicted: %2.2f%%' % (c_label, t_count, p_count))\n"
      ],
      "execution_count": 0,
      "outputs": []
    },
    {
      "cell_type": "code",
      "metadata": {
        "id": "5AzdRkLfSvMG",
        "colab_type": "code",
        "colab": {}
      },
      "source": [
        "fig, c_ax = plt.subplots(1,1, figsize = (9, 9))\n",
        "for (idx, c_label) in enumerate(all_labels):\n",
        "    fpr, tpr, thresholds = roc_curve(test_Y[:,idx].astype(int), y_pred[:,idx])\n",
        "    c_ax.plot(fpr, tpr, label = '%s (AUC:%0.2f)'  % (c_label, auc(fpr, tpr)))\n",
        "c_ax.legend()\n",
        "c_ax.set_xlabel('False Positive Rate')\n",
        "c_ax.set_ylabel('True Positive Rate')\n",
        "fig.savefig('trained_net.png')"
      ],
      "execution_count": 0,
      "outputs": []
    },
    {
      "cell_type": "code",
      "metadata": {
        "id": "0EUCocE1Sx--",
        "colab_type": "code",
        "colab": {}
      },
      "source": [
        "roc_auc_score(test_Y.astype(int), y_pred)"
      ],
      "execution_count": 0,
      "outputs": []
    },
    {
      "cell_type": "code",
      "metadata": {
        "id": "c2-cEOcyTq_M",
        "colab_type": "code",
        "colab": {}
      },
      "source": [
        "Create a simple MobileNet model\n",
        "In [13]:\n",
        "from keras.applications.mobilenet import MobileNet\n",
        "from keras.layers import GlobalAveragePooling2D, Dense, Dropout, Flatten\n",
        "from keras.models import Sequential\n",
        "mobilenet_model = MobileNet(input_shape =  t_x.shape[1:], \n",
        "                                 include_top = False, weights = None)\n",
        "multi_disease_model = Sequential()\n",
        "multi_disease_model.add(mobilenet_model)\n",
        "multi_disease_model.add(GlobalAveragePooling2D())\n",
        "multi_disease_model.add(Dropout(0.5))\n",
        "multi_disease_model.add(Dense(512))\n",
        "multi_disease_model.add(Dropout(0.5))\n",
        "multi_disease_model.add(Dense(len(all_labels), activation = 'sigmoid'))\n",
        "multi_disease_model.compile(optimizer = 'adam', loss = 'binary_crossentropy',\n",
        "                           metrics = ['binary_accuracy', 'mae'])\n",
        "multi_disease_model.summary()"
      ],
      "execution_count": 0,
      "outputs": []
    },
    {
      "cell_type": "code",
      "metadata": {
        "id": "YRwN5EFrTtTe",
        "colab_type": "code",
        "colab": {}
      },
      "source": [
        "history = multi_disease_model.fit_generator(train_gen, \n",
        "                                  steps_per_epoch=100,\n",
        "                                  validation_data = valid_gen, \n",
        "                                  epochs = 30)"
      ],
      "execution_count": 0,
      "outputs": []
    },
    {
      "cell_type": "code",
      "metadata": {
        "id": "IOiLqdI4TxyO",
        "colab_type": "code",
        "colab": {}
      },
      "source": [
        "plt.plot(history.history['loss'], label='train loss')\n",
        "plt.plot(history.history['val_loss'], label='test loss')\n",
        "plt.legend()\n",
        "plt.title('loss per epoch')\n",
        "plt.show()"
      ],
      "execution_count": 0,
      "outputs": []
    },
    {
      "cell_type": "code",
      "metadata": {
        "id": "YzdXuGBtT0s0",
        "colab_type": "code",
        "colab": {}
      },
      "source": [
        "print('test binary accuracy = ',multi_disease_model.evaluate(test_X,test_Y, verbose=0)[1])\n"
      ],
      "execution_count": 0,
      "outputs": []
    },
    {
      "cell_type": "code",
      "metadata": {
        "id": "dTNdCxrET2a9",
        "colab_type": "code",
        "colab": {}
      },
      "source": [
        "y_pred = multi_disease_model.predict(test_X)\n"
      ],
      "execution_count": 0,
      "outputs": []
    },
    {
      "cell_type": "code",
      "metadata": {
        "id": "-oOyHTgIT4Fl",
        "colab_type": "code",
        "colab": {}
      },
      "source": [
        "# look at how often the algorithm predicts certain diagnoses \n",
        "for c_label, p_count, t_count in zip(all_labels, \n",
        "                                     100*np.mean(y_pred,0), \n",
        "                                     100*np.mean(test_Y,0)):\n",
        "    print('%s: actual: %2.2f%%, predicted: %2.2f%%' % (c_label, t_count, p_count))"
      ],
      "execution_count": 0,
      "outputs": []
    },
    {
      "cell_type": "code",
      "metadata": {
        "id": "CbCmOS7HT7BE",
        "colab_type": "code",
        "colab": {}
      },
      "source": [
        "from sklearn.metrics import roc_curve, auc\n",
        "fig, c_ax = plt.subplots(1,1, figsize = (9, 9))\n",
        "for (idx, c_label) in enumerate(all_labels):\n",
        "    fpr, tpr, thresholds = roc_curve(test_Y[:,idx].astype(int), y_pred[:,idx])\n",
        "    c_ax.plot(fpr, tpr, label = '%s (AUC:%0.2f)'  % (c_label, auc(fpr, tpr)))\n",
        "c_ax.legend()\n",
        "c_ax.set_xlabel('False Positive Rate')\n",
        "c_ax.set_ylabel('True Positive Rate')\n",
        "fig.savefig('trained_net.png')"
      ],
      "execution_count": 0,
      "outputs": []
    },
    {
      "cell_type": "code",
      "metadata": {
        "id": "AZk-fW7YT9W8",
        "colab_type": "code",
        "colab": {}
      },
      "source": [
        "\n",
        "print('roc score for MobileNet is : ',roc_auc_score(test_Y.astype(int), y_pred))"
      ],
      "execution_count": 0,
      "outputs": []
    },
    {
      "cell_type": "code",
      "metadata": {
        "id": "QbAm2w_YUEhv",
        "colab_type": "code",
        "colab": {}
      },
      "source": [
        ""
      ],
      "execution_count": 0,
      "outputs": []
    }
  ]
}